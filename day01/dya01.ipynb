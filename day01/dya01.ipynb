{
 "cells": [
  {
   "cell_type": "code",
   "execution_count": 2,
   "source": [
    "import pandas as pd\r\n",
    "import numpy as np\r\n",
    "import matplotlib.pyplot as plt"
   ],
   "outputs": [],
   "metadata": {}
  },
  {
   "cell_type": "markdown",
   "source": [
    "# 任务1：报名比赛，下载比赛数据集并完成读取"
   ],
   "metadata": {}
  },
  {
   "cell_type": "code",
   "execution_count": 3,
   "source": [
    "train_df = pd.read_csv(r'./train_set/train_set.csv',sep='\\t')"
   ],
   "outputs": [],
   "metadata": {}
  },
  {
   "cell_type": "code",
   "execution_count": 4,
   "source": [
    "train_df.head()"
   ],
   "outputs": [
    {
     "output_type": "execute_result",
     "data": {
      "text/html": [
       "<div>\n",
       "<style scoped>\n",
       "    .dataframe tbody tr th:only-of-type {\n",
       "        vertical-align: middle;\n",
       "    }\n",
       "\n",
       "    .dataframe tbody tr th {\n",
       "        vertical-align: top;\n",
       "    }\n",
       "\n",
       "    .dataframe thead th {\n",
       "        text-align: right;\n",
       "    }\n",
       "</style>\n",
       "<table border=\"1\" class=\"dataframe\">\n",
       "  <thead>\n",
       "    <tr style=\"text-align: right;\">\n",
       "      <th></th>\n",
       "      <th>label</th>\n",
       "      <th>text</th>\n",
       "    </tr>\n",
       "  </thead>\n",
       "  <tbody>\n",
       "    <tr>\n",
       "      <th>0</th>\n",
       "      <td>2</td>\n",
       "      <td>2967 6758 339 2021 1854 3731 4109 3792 4149 15...</td>\n",
       "    </tr>\n",
       "    <tr>\n",
       "      <th>1</th>\n",
       "      <td>11</td>\n",
       "      <td>4464 486 6352 5619 2465 4802 1452 3137 5778 54...</td>\n",
       "    </tr>\n",
       "    <tr>\n",
       "      <th>2</th>\n",
       "      <td>3</td>\n",
       "      <td>7346 4068 5074 3747 5681 6093 1777 2226 7354 6...</td>\n",
       "    </tr>\n",
       "    <tr>\n",
       "      <th>3</th>\n",
       "      <td>2</td>\n",
       "      <td>7159 948 4866 2109 5520 2490 211 3956 5520 549...</td>\n",
       "    </tr>\n",
       "    <tr>\n",
       "      <th>4</th>\n",
       "      <td>3</td>\n",
       "      <td>3646 3055 3055 2490 4659 6065 3370 5814 2465 5...</td>\n",
       "    </tr>\n",
       "  </tbody>\n",
       "</table>\n",
       "</div>"
      ],
      "text/plain": [
       "   label                                               text\n",
       "0      2  2967 6758 339 2021 1854 3731 4109 3792 4149 15...\n",
       "1     11  4464 486 6352 5619 2465 4802 1452 3137 5778 54...\n",
       "2      3  7346 4068 5074 3747 5681 6093 1777 2226 7354 6...\n",
       "3      2  7159 948 4866 2109 5520 2490 211 3956 5520 549...\n",
       "4      3  3646 3055 3055 2490 4659 6065 3370 5814 2465 5..."
      ]
     },
     "metadata": {},
     "execution_count": 4
    }
   ],
   "metadata": {}
  },
  {
   "cell_type": "code",
   "execution_count": 5,
   "source": [
    "train_df.shape"
   ],
   "outputs": [
    {
     "output_type": "execute_result",
     "data": {
      "text/plain": [
       "(200000, 2)"
      ]
     },
     "metadata": {},
     "execution_count": 5
    }
   ],
   "metadata": {}
  },
  {
   "cell_type": "code",
   "execution_count": 6,
   "source": [
    "train_df['word'] = train_df['text'].apply(lambda x: len(x.split(' ')))"
   ],
   "outputs": [],
   "metadata": {}
  },
  {
   "cell_type": "code",
   "execution_count": 7,
   "source": [
    "train_df.head(10)"
   ],
   "outputs": [
    {
     "output_type": "execute_result",
     "data": {
      "text/html": [
       "<div>\n",
       "<style scoped>\n",
       "    .dataframe tbody tr th:only-of-type {\n",
       "        vertical-align: middle;\n",
       "    }\n",
       "\n",
       "    .dataframe tbody tr th {\n",
       "        vertical-align: top;\n",
       "    }\n",
       "\n",
       "    .dataframe thead th {\n",
       "        text-align: right;\n",
       "    }\n",
       "</style>\n",
       "<table border=\"1\" class=\"dataframe\">\n",
       "  <thead>\n",
       "    <tr style=\"text-align: right;\">\n",
       "      <th></th>\n",
       "      <th>label</th>\n",
       "      <th>text</th>\n",
       "      <th>word</th>\n",
       "    </tr>\n",
       "  </thead>\n",
       "  <tbody>\n",
       "    <tr>\n",
       "      <th>0</th>\n",
       "      <td>2</td>\n",
       "      <td>2967 6758 339 2021 1854 3731 4109 3792 4149 15...</td>\n",
       "      <td>1057</td>\n",
       "    </tr>\n",
       "    <tr>\n",
       "      <th>1</th>\n",
       "      <td>11</td>\n",
       "      <td>4464 486 6352 5619 2465 4802 1452 3137 5778 54...</td>\n",
       "      <td>486</td>\n",
       "    </tr>\n",
       "    <tr>\n",
       "      <th>2</th>\n",
       "      <td>3</td>\n",
       "      <td>7346 4068 5074 3747 5681 6093 1777 2226 7354 6...</td>\n",
       "      <td>764</td>\n",
       "    </tr>\n",
       "    <tr>\n",
       "      <th>3</th>\n",
       "      <td>2</td>\n",
       "      <td>7159 948 4866 2109 5520 2490 211 3956 5520 549...</td>\n",
       "      <td>1570</td>\n",
       "    </tr>\n",
       "    <tr>\n",
       "      <th>4</th>\n",
       "      <td>3</td>\n",
       "      <td>3646 3055 3055 2490 4659 6065 3370 5814 2465 5...</td>\n",
       "      <td>307</td>\n",
       "    </tr>\n",
       "    <tr>\n",
       "      <th>5</th>\n",
       "      <td>9</td>\n",
       "      <td>3819 4525 1129 6725 6485 2109 3800 5264 1006 4...</td>\n",
       "      <td>1050</td>\n",
       "    </tr>\n",
       "    <tr>\n",
       "      <th>6</th>\n",
       "      <td>3</td>\n",
       "      <td>307 4780 6811 1580 7539 5886 5486 3433 6644 58...</td>\n",
       "      <td>267</td>\n",
       "    </tr>\n",
       "    <tr>\n",
       "      <th>7</th>\n",
       "      <td>10</td>\n",
       "      <td>26 4270 1866 5977 3523 3764 4464 3659 4853 517...</td>\n",
       "      <td>876</td>\n",
       "    </tr>\n",
       "    <tr>\n",
       "      <th>8</th>\n",
       "      <td>12</td>\n",
       "      <td>2708 2218 5915 4559 886 1241 4819 314 4261 166...</td>\n",
       "      <td>314</td>\n",
       "    </tr>\n",
       "    <tr>\n",
       "      <th>9</th>\n",
       "      <td>3</td>\n",
       "      <td>3654 531 1348 29 4553 6722 1474 5099 7541 307 ...</td>\n",
       "      <td>1086</td>\n",
       "    </tr>\n",
       "  </tbody>\n",
       "</table>\n",
       "</div>"
      ],
      "text/plain": [
       "   label                                               text  word\n",
       "0      2  2967 6758 339 2021 1854 3731 4109 3792 4149 15...  1057\n",
       "1     11  4464 486 6352 5619 2465 4802 1452 3137 5778 54...   486\n",
       "2      3  7346 4068 5074 3747 5681 6093 1777 2226 7354 6...   764\n",
       "3      2  7159 948 4866 2109 5520 2490 211 3956 5520 549...  1570\n",
       "4      3  3646 3055 3055 2490 4659 6065 3370 5814 2465 5...   307\n",
       "5      9  3819 4525 1129 6725 6485 2109 3800 5264 1006 4...  1050\n",
       "6      3  307 4780 6811 1580 7539 5886 5486 3433 6644 58...   267\n",
       "7     10  26 4270 1866 5977 3523 3764 4464 3659 4853 517...   876\n",
       "8     12  2708 2218 5915 4559 886 1241 4819 314 4261 166...   314\n",
       "9      3  3654 531 1348 29 4553 6722 1474 5099 7541 307 ...  1086"
      ]
     },
     "metadata": {},
     "execution_count": 7
    }
   ],
   "metadata": {}
  },
  {
   "cell_type": "markdown",
   "source": [
    "# 任务2：对数据集字符进行可视化，统计标签和字符分布"
   ],
   "metadata": {}
  },
  {
   "cell_type": "markdown",
   "source": [
    "## 统计数据集中所有句子所包含字符的平均个数"
   ],
   "metadata": {}
  },
  {
   "cell_type": "code",
   "execution_count": 8,
   "source": [
    "train_df['word'].sum() / train_df.shape[0]"
   ],
   "outputs": [
    {
     "output_type": "execute_result",
     "data": {
      "text/plain": [
       "907.20711"
      ]
     },
     "metadata": {},
     "execution_count": 8
    }
   ],
   "metadata": {}
  },
  {
   "cell_type": "markdown",
   "source": [
    "## 统计数据集中不同类别下句子平均字符的个数"
   ],
   "metadata": {}
  },
  {
   "cell_type": "code",
   "execution_count": 9,
   "source": [
    "train_df.groupby('label')['word'].sum() / train_df.groupby('label')['text'].count()"
   ],
   "outputs": [
    {
     "output_type": "execute_result",
     "data": {
      "text/plain": [
       "label\n",
       "0      878.717663\n",
       "1      870.363676\n",
       "2     1014.429562\n",
       "3      784.774726\n",
       "4      649.705647\n",
       "5     1116.054938\n",
       "6     1249.114071\n",
       "7     1157.883271\n",
       "8      712.401172\n",
       "9      833.627084\n",
       "10     911.138008\n",
       "11     608.889812\n",
       "12    1194.969248\n",
       "13     735.325991\n",
       "dtype: float64"
      ]
     },
     "metadata": {},
     "execution_count": 9
    }
   ],
   "metadata": {}
  },
  {
   "cell_type": "markdown",
   "source": [
    "## 统计数据集中类别分布的规律"
   ],
   "metadata": {}
  },
  {
   "cell_type": "code",
   "execution_count": 10,
   "source": [
    "train_df['label'].value_counts()"
   ],
   "outputs": [
    {
     "output_type": "execute_result",
     "data": {
      "text/plain": [
       "0     38918\n",
       "1     36945\n",
       "2     31425\n",
       "3     22133\n",
       "4     15016\n",
       "5     12232\n",
       "6      9985\n",
       "7      8841\n",
       "8      7847\n",
       "9      5878\n",
       "10     4920\n",
       "11     3131\n",
       "12     1821\n",
       "13      908\n",
       "Name: label, dtype: int64"
      ]
     },
     "metadata": {},
     "execution_count": 10
    }
   ],
   "metadata": {}
  },
  {
   "cell_type": "code",
   "execution_count": 11,
   "source": [
    "train_df['label'].value_counts().plot(kind='bar')\r\n",
    "plt.title('News class count')\r\n",
    "plt.xlabel(\"category\")"
   ],
   "outputs": [
    {
     "output_type": "execute_result",
     "data": {
      "text/plain": [
       "Text(0.5, 0, 'category')"
      ]
     },
     "metadata": {},
     "execution_count": 11
    },
    {
     "output_type": "display_data",
     "data": {
      "image/png": "[encoded data removed]",
      "text/plain": [
       "<Figure size 432x288 with 1 Axes>"
      ]
     },
     "metadata": {
      "needs_background": "light"
     }
    }
   ],
   "metadata": {}
  },
  {
   "cell_type": "markdown",
   "source": [
    "## 统计数据集中不同类别下句子中最常见的5个字符"
   ],
   "metadata": {}
  },
  {
   "cell_type": "code",
   "execution_count": 17,
   "source": [
    "import collections"
   ],
   "outputs": [],
   "metadata": {}
  },
  {
   "cell_type": "code",
   "execution_count": 51,
   "source": [
    "def concat_func(x) :\r\n",
    "    return pd.Series({'label_text' : ' '.join(x['text'])})"
   ],
   "outputs": [],
   "metadata": {}
  },
  {
   "cell_type": "code",
   "execution_count": 53,
   "source": [
    "df_top5 = pd.DataFrame(train_df[['label','text']].groupby('label').apply(lambda x : concat_func(x)).reset_index())\r\n",
    "df_top5"
   ],
   "outputs": [
    {
     "output_type": "execute_result",
     "data": {
      "text/html": [
       "<div>\n",
       "<style scoped>\n",
       "    .dataframe tbody tr th:only-of-type {\n",
       "        vertical-align: middle;\n",
       "    }\n",
       "\n",
       "    .dataframe tbody tr th {\n",
       "        vertical-align: top;\n",
       "    }\n",
       "\n",
       "    .dataframe thead th {\n",
       "        text-align: right;\n",
       "    }\n",
       "</style>\n",
       "<table border=\"1\" class=\"dataframe\">\n",
       "  <thead>\n",
       "    <tr style=\"text-align: right;\">\n",
       "      <th></th>\n",
       "      <th>label</th>\n",
       "      <th>label_text</th>\n",
       "    </tr>\n",
       "  </thead>\n",
       "  <tbody>\n",
       "    <tr>\n",
       "      <th>0</th>\n",
       "      <td>0</td>\n",
       "      <td>3659 3659 1903 1866 4326 4744 7239 3479 4261 4...</td>\n",
       "    </tr>\n",
       "    <tr>\n",
       "      <th>1</th>\n",
       "      <td>1</td>\n",
       "      <td>4412 5988 5036 4216 7539 5644 1906 2380 2252 6...</td>\n",
       "    </tr>\n",
       "    <tr>\n",
       "      <th>2</th>\n",
       "      <td>2</td>\n",
       "      <td>2967 6758 339 2021 1854 3731 4109 3792 4149 15...</td>\n",
       "    </tr>\n",
       "    <tr>\n",
       "      <th>3</th>\n",
       "      <td>3</td>\n",
       "      <td>7346 4068 5074 3747 5681 6093 1777 2226 7354 6...</td>\n",
       "    </tr>\n",
       "    <tr>\n",
       "      <th>4</th>\n",
       "      <td>4</td>\n",
       "      <td>3772 4269 3433 6122 2035 4531 465 6565 498 358...</td>\n",
       "    </tr>\n",
       "    <tr>\n",
       "      <th>5</th>\n",
       "      <td>5</td>\n",
       "      <td>2827 2444 7399 3528 2260 6127 1871 119 3615 57...</td>\n",
       "    </tr>\n",
       "    <tr>\n",
       "      <th>6</th>\n",
       "      <td>6</td>\n",
       "      <td>5284 1779 2109 6248 7039 5677 1816 5430 3154 1...</td>\n",
       "    </tr>\n",
       "    <tr>\n",
       "      <th>7</th>\n",
       "      <td>7</td>\n",
       "      <td>6469 1066 1623 1018 3694 4089 3809 4516 6656 3...</td>\n",
       "    </tr>\n",
       "    <tr>\n",
       "      <th>8</th>\n",
       "      <td>8</td>\n",
       "      <td>2087 730 5166 3300 7539 1722 5305 913 4326 669...</td>\n",
       "    </tr>\n",
       "    <tr>\n",
       "      <th>9</th>\n",
       "      <td>9</td>\n",
       "      <td>3819 4525 1129 6725 6485 2109 3800 5264 1006 4...</td>\n",
       "    </tr>\n",
       "    <tr>\n",
       "      <th>10</th>\n",
       "      <td>10</td>\n",
       "      <td>26 4270 1866 5977 3523 3764 4464 3659 4853 517...</td>\n",
       "    </tr>\n",
       "    <tr>\n",
       "      <th>11</th>\n",
       "      <td>11</td>\n",
       "      <td>4464 486 6352 5619 2465 4802 1452 3137 5778 54...</td>\n",
       "    </tr>\n",
       "    <tr>\n",
       "      <th>12</th>\n",
       "      <td>12</td>\n",
       "      <td>2708 2218 5915 4559 886 1241 4819 314 4261 166...</td>\n",
       "    </tr>\n",
       "    <tr>\n",
       "      <th>13</th>\n",
       "      <td>13</td>\n",
       "      <td>1903 2112 3019 3607 7539 3864 4939 4768 3420 2...</td>\n",
       "    </tr>\n",
       "  </tbody>\n",
       "</table>\n",
       "</div>"
      ],
      "text/plain": [
       "    label                                         label_text\n",
       "0       0  3659 3659 1903 1866 4326 4744 7239 3479 4261 4...\n",
       "1       1  4412 5988 5036 4216 7539 5644 1906 2380 2252 6...\n",
       "2       2  2967 6758 339 2021 1854 3731 4109 3792 4149 15...\n",
       "3       3  7346 4068 5074 3747 5681 6093 1777 2226 7354 6...\n",
       "4       4  3772 4269 3433 6122 2035 4531 465 6565 498 358...\n",
       "5       5  2827 2444 7399 3528 2260 6127 1871 119 3615 57...\n",
       "6       6  5284 1779 2109 6248 7039 5677 1816 5430 3154 1...\n",
       "7       7  6469 1066 1623 1018 3694 4089 3809 4516 6656 3...\n",
       "8       8  2087 730 5166 3300 7539 1722 5305 913 4326 669...\n",
       "9       9  3819 4525 1129 6725 6485 2109 3800 5264 1006 4...\n",
       "10     10  26 4270 1866 5977 3523 3764 4464 3659 4853 517...\n",
       "11     11  4464 486 6352 5619 2465 4802 1452 3137 5778 54...\n",
       "12     12  2708 2218 5915 4559 886 1241 4819 314 4261 166...\n",
       "13     13  1903 2112 3019 3607 7539 3864 4939 4768 3420 2..."
      ]
     },
     "metadata": {},
     "execution_count": 53
    }
   ],
   "metadata": {}
  },
  {
   "cell_type": "code",
   "execution_count": 76,
   "source": [
    "def get_top5(x,top_n=5):\r\n",
    "    label_dict = dict(collections.Counter(x.split(' ')))\r\n",
    "    label_dict_list = sorted(label_dict.items(), key = lambda kv : kv[1],reverse = True)\r\n",
    "    top5_list = [(k,v) for k,v in label_dict_list][:top_n]\r\n",
    "    return top5_list\r\n"
   ],
   "outputs": [],
   "metadata": {}
  },
  {
   "cell_type": "code",
   "execution_count": 77,
   "source": [
    "# pd.set_option('max_colwidth',100)\r\n",
    "df_top5['top5_word'] = df_top5['label_text'].apply(lambda x : get_top5(x))\r\n",
    "df_top5"
   ],
   "outputs": [
    {
     "output_type": "execute_result",
     "data": {
      "text/html": [
       "<div>\n",
       "<style scoped>\n",
       "    .dataframe tbody tr th:only-of-type {\n",
       "        vertical-align: middle;\n",
       "    }\n",
       "\n",
       "    .dataframe tbody tr th {\n",
       "        vertical-align: top;\n",
       "    }\n",
       "\n",
       "    .dataframe thead th {\n",
       "        text-align: right;\n",
       "    }\n",
       "</style>\n",
       "<table border=\"1\" class=\"dataframe\">\n",
       "  <thead>\n",
       "    <tr style=\"text-align: right;\">\n",
       "      <th></th>\n",
       "      <th>label</th>\n",
       "      <th>label_text</th>\n",
       "      <th>top5_word</th>\n",
       "    </tr>\n",
       "  </thead>\n",
       "  <tbody>\n",
       "    <tr>\n",
       "      <th>0</th>\n",
       "      <td>0</td>\n",
       "      <td>3659 3659 1903 1866 4326 4744 7239 3479 4261 4630 4270 7539 4811 465 3500 5474 5393 6038 4231 56...</td>\n",
       "      <td>[(3750, 1267331), (648, 967653), (900, 577742), (3370, 503768), (4464, 307431)]</td>\n",
       "    </tr>\n",
       "    <tr>\n",
       "      <th>1</th>\n",
       "      <td>1</td>\n",
       "      <td>4412 5988 5036 4216 7539 5644 1906 2380 2252 6637 5702 2465 3223 2106 4576 2252 2770 23 2029 240...</td>\n",
       "      <td>[(3750, 1200686), (648, 714152), (3370, 626708), (900, 542884), (4464, 445525)]</td>\n",
       "    </tr>\n",
       "    <tr>\n",
       "      <th>2</th>\n",
       "      <td>2</td>\n",
       "      <td>2967 6758 339 2021 1854 3731 4109 3792 4149 1519 2058 3912 2465 2410 1219 6654 7539 264 2456 481...</td>\n",
       "      <td>[(3750, 1458331), (648, 974639), (900, 618294), (7399, 351894), (6122, 343850)]</td>\n",
       "    </tr>\n",
       "    <tr>\n",
       "      <th>3</th>\n",
       "      <td>3</td>\n",
       "      <td>7346 4068 5074 3747 5681 6093 1777 2226 7354 6301 2465 6088 5858 4333 1386 1401 5780 290 541 635...</td>\n",
       "      <td>[(3750, 774668), (648, 494477), (900, 298663), (6122, 187933), (4939, 173606)]</td>\n",
       "    </tr>\n",
       "    <tr>\n",
       "      <th>4</th>\n",
       "      <td>4</td>\n",
       "      <td>3772 4269 3433 6122 2035 4531 465 6565 498 3585 6093 1706 5854 4893 442 2522 2400 7495 4559 1324...</td>\n",
       "      <td>[(3750, 360839), (648, 231863), (900, 190842), (4411, 120442), (7399, 86190)]</td>\n",
       "    </tr>\n",
       "    <tr>\n",
       "      <th>5</th>\n",
       "      <td>5</td>\n",
       "      <td>2827 2444 7399 3528 2260 6127 1871 119 3615 5744 1695 5526 5566 4781 5099 299 2192 119 5612 4499...</td>\n",
       "      <td>[(3750, 715740), (648, 329051), (900, 305241), (6122, 159125), (5598, 136713)]</td>\n",
       "    </tr>\n",
       "    <tr>\n",
       "      <th>6</th>\n",
       "      <td>6</td>\n",
       "      <td>5284 1779 2109 6248 7039 5677 1816 5430 3154 101 1567 3607 6235 6248 5620 5999 531 3750 5284 210...</td>\n",
       "      <td>[(3750, 469540), (648, 345372), (900, 222488), (6248, 193757), (2555, 175234)]</td>\n",
       "    </tr>\n",
       "    <tr>\n",
       "      <th>7</th>\n",
       "      <td>7</td>\n",
       "      <td>6469 1066 1623 1018 3694 4089 3809 4516 6656 3659 3370 3370 2799 3370 3700 1519 4480 5589 1667 2...</td>\n",
       "      <td>[(3750, 428638), (648, 262220), (900, 184131), (3370, 159156), (5296, 132136)]</td>\n",
       "    </tr>\n",
       "    <tr>\n",
       "      <th>8</th>\n",
       "      <td>8</td>\n",
       "      <td>2087 730 5166 3300 7539 1722 5305 913 4326 669 5393 340 5235 6333 4354 1277 4430 1401 4853 3750 ...</td>\n",
       "      <td>[(3750, 242367), (648, 202399), (900, 92207), (6122, 57345), (4939, 56147)]</td>\n",
       "    </tr>\n",
       "    <tr>\n",
       "      <th>9</th>\n",
       "      <td>9</td>\n",
       "      <td>3819 4525 1129 6725 6485 2109 3800 5264 1006 462 6542 6101 1844 6485 2786 433 2465 3659 3370 446...</td>\n",
       "      <td>[(3750, 178783), (648, 157291), (900, 70680), (7328, 46477), (6122, 43411)]</td>\n",
       "    </tr>\n",
       "    <tr>\n",
       "      <th>10</th>\n",
       "      <td>10</td>\n",
       "      <td>26 4270 1866 5977 3523 3764 4464 3659 4853 5176 4139 2465 2465 2212 4853 341 3242 2799 1324 7186...</td>\n",
       "      <td>[(3750, 180259), (648, 114512), (900, 75185), (3370, 67780), (2465, 45163)]</td>\n",
       "    </tr>\n",
       "    <tr>\n",
       "      <th>11</th>\n",
       "      <td>11</td>\n",
       "      <td>4464 486 6352 5619 2465 4802 1452 3137 5778 5445 26 6663 5530 4149 2986 1746 5491 3659 2662 3002...</td>\n",
       "      <td>[(3750, 83834), (648, 67353), (900, 37240), (4939, 18591), (6122, 18438)]</td>\n",
       "    </tr>\n",
       "    <tr>\n",
       "      <th>12</th>\n",
       "      <td>12</td>\n",
       "      <td>2708 2218 5915 4559 886 1241 4819 314 4261 1667 4464 4464 4464 3659 3700 3272 3335 3019 7539 297...</td>\n",
       "      <td>[(3750, 87412), (4464, 51426), (3370, 45815), (648, 37041), (2465, 36610)]</td>\n",
       "    </tr>\n",
       "    <tr>\n",
       "      <th>13</th>\n",
       "      <td>13</td>\n",
       "      <td>1903 2112 3019 3607 7539 3864 4939 4768 3420 2151 7403 648 4893 3088 5491 1580 2662 211 913 5979...</td>\n",
       "      <td>[(3750, 33796), (648, 26867), (900, 11263), (4939, 9651), (669, 8925)]</td>\n",
       "    </tr>\n",
       "  </tbody>\n",
       "</table>\n",
       "</div>"
      ],
      "text/plain": [
       "    label  \\\n",
       "0       0   \n",
       "1       1   \n",
       "2       2   \n",
       "3       3   \n",
       "4       4   \n",
       "5       5   \n",
       "6       6   \n",
       "7       7   \n",
       "8       8   \n",
       "9       9   \n",
       "10     10   \n",
       "11     11   \n",
       "12     12   \n",
       "13     13   \n",
       "\n",
       "                                                                                             label_text  \\\n",
       "0   3659 3659 1903 1866 4326 4744 7239 3479 4261 4630 4270 7539 4811 465 3500 5474 5393 6038 4231 56...   \n",
       "1   4412 5988 5036 4216 7539 5644 1906 2380 2252 6637 5702 2465 3223 2106 4576 2252 2770 23 2029 240...   \n",
       "2   2967 6758 339 2021 1854 3731 4109 3792 4149 1519 2058 3912 2465 2410 1219 6654 7539 264 2456 481...   \n",
       "3   7346 4068 5074 3747 5681 6093 1777 2226 7354 6301 2465 6088 5858 4333 1386 1401 5780 290 541 635...   \n",
       "4   3772 4269 3433 6122 2035 4531 465 6565 498 3585 6093 1706 5854 4893 442 2522 2400 7495 4559 1324...   \n",
       "5   2827 2444 7399 3528 2260 6127 1871 119 3615 5744 1695 5526 5566 4781 5099 299 2192 119 5612 4499...   \n",
       "6   5284 1779 2109 6248 7039 5677 1816 5430 3154 101 1567 3607 6235 6248 5620 5999 531 3750 5284 210...   \n",
       "7   6469 1066 1623 1018 3694 4089 3809 4516 6656 3659 3370 3370 2799 3370 3700 1519 4480 5589 1667 2...   \n",
       "8   2087 730 5166 3300 7539 1722 5305 913 4326 669 5393 340 5235 6333 4354 1277 4430 1401 4853 3750 ...   \n",
       "9   3819 4525 1129 6725 6485 2109 3800 5264 1006 462 6542 6101 1844 6485 2786 433 2465 3659 3370 446...   \n",
       "10  26 4270 1866 5977 3523 3764 4464 3659 4853 5176 4139 2465 2465 2212 4853 341 3242 2799 1324 7186...   \n",
       "11  4464 486 6352 5619 2465 4802 1452 3137 5778 5445 26 6663 5530 4149 2986 1746 5491 3659 2662 3002...   \n",
       "12  2708 2218 5915 4559 886 1241 4819 314 4261 1667 4464 4464 4464 3659 3700 3272 3335 3019 7539 297...   \n",
       "13  1903 2112 3019 3607 7539 3864 4939 4768 3420 2151 7403 648 4893 3088 5491 1580 2662 211 913 5979...   \n",
       "\n",
       "                                                                          top5_word  \n",
       "0   [(3750, 1267331), (648, 967653), (900, 577742), (3370, 503768), (4464, 307431)]  \n",
       "1   [(3750, 1200686), (648, 714152), (3370, 626708), (900, 542884), (4464, 445525)]  \n",
       "2   [(3750, 1458331), (648, 974639), (900, 618294), (7399, 351894), (6122, 343850)]  \n",
       "3    [(3750, 774668), (648, 494477), (900, 298663), (6122, 187933), (4939, 173606)]  \n",
       "4     [(3750, 360839), (648, 231863), (900, 190842), (4411, 120442), (7399, 86190)]  \n",
       "5    [(3750, 715740), (648, 329051), (900, 305241), (6122, 159125), (5598, 136713)]  \n",
       "6    [(3750, 469540), (648, 345372), (900, 222488), (6248, 193757), (2555, 175234)]  \n",
       "7    [(3750, 428638), (648, 262220), (900, 184131), (3370, 159156), (5296, 132136)]  \n",
       "8       [(3750, 242367), (648, 202399), (900, 92207), (6122, 57345), (4939, 56147)]  \n",
       "9       [(3750, 178783), (648, 157291), (900, 70680), (7328, 46477), (6122, 43411)]  \n",
       "10      [(3750, 180259), (648, 114512), (900, 75185), (3370, 67780), (2465, 45163)]  \n",
       "11        [(3750, 83834), (648, 67353), (900, 37240), (4939, 18591), (6122, 18438)]  \n",
       "12       [(3750, 87412), (4464, 51426), (3370, 45815), (648, 37041), (2465, 36610)]  \n",
       "13           [(3750, 33796), (648, 26867), (900, 11263), (4939, 9651), (669, 8925)]  "
      ]
     },
     "metadata": {},
     "execution_count": 77
    }
   ],
   "metadata": {}
  },
  {
   "cell_type": "code",
   "execution_count": 81,
   "source": [
    "df_top5[['label','top5_word']]"
   ],
   "outputs": [
    {
     "output_type": "execute_result",
     "data": {
      "text/html": [
       "<div>\n",
       "<style scoped>\n",
       "    .dataframe tbody tr th:only-of-type {\n",
       "        vertical-align: middle;\n",
       "    }\n",
       "\n",
       "    .dataframe tbody tr th {\n",
       "        vertical-align: top;\n",
       "    }\n",
       "\n",
       "    .dataframe thead th {\n",
       "        text-align: right;\n",
       "    }\n",
       "</style>\n",
       "<table border=\"1\" class=\"dataframe\">\n",
       "  <thead>\n",
       "    <tr style=\"text-align: right;\">\n",
       "      <th></th>\n",
       "      <th>label</th>\n",
       "      <th>top5_word</th>\n",
       "    </tr>\n",
       "  </thead>\n",
       "  <tbody>\n",
       "    <tr>\n",
       "      <th>0</th>\n",
       "      <td>0</td>\n",
       "      <td>[(3750, 1267331), (648, 967653), (900, 577742), (3370, 503768), (4464, 307431)]</td>\n",
       "    </tr>\n",
       "    <tr>\n",
       "      <th>1</th>\n",
       "      <td>1</td>\n",
       "      <td>[(3750, 1200686), (648, 714152), (3370, 626708), (900, 542884), (4464, 445525)]</td>\n",
       "    </tr>\n",
       "    <tr>\n",
       "      <th>2</th>\n",
       "      <td>2</td>\n",
       "      <td>[(3750, 1458331), (648, 974639), (900, 618294), (7399, 351894), (6122, 343850)]</td>\n",
       "    </tr>\n",
       "    <tr>\n",
       "      <th>3</th>\n",
       "      <td>3</td>\n",
       "      <td>[(3750, 774668), (648, 494477), (900, 298663), (6122, 187933), (4939, 173606)]</td>\n",
       "    </tr>\n",
       "    <tr>\n",
       "      <th>4</th>\n",
       "      <td>4</td>\n",
       "      <td>[(3750, 360839), (648, 231863), (900, 190842), (4411, 120442), (7399, 86190)]</td>\n",
       "    </tr>\n",
       "    <tr>\n",
       "      <th>5</th>\n",
       "      <td>5</td>\n",
       "      <td>[(3750, 715740), (648, 329051), (900, 305241), (6122, 159125), (5598, 136713)]</td>\n",
       "    </tr>\n",
       "    <tr>\n",
       "      <th>6</th>\n",
       "      <td>6</td>\n",
       "      <td>[(3750, 469540), (648, 345372), (900, 222488), (6248, 193757), (2555, 175234)]</td>\n",
       "    </tr>\n",
       "    <tr>\n",
       "      <th>7</th>\n",
       "      <td>7</td>\n",
       "      <td>[(3750, 428638), (648, 262220), (900, 184131), (3370, 159156), (5296, 132136)]</td>\n",
       "    </tr>\n",
       "    <tr>\n",
       "      <th>8</th>\n",
       "      <td>8</td>\n",
       "      <td>[(3750, 242367), (648, 202399), (900, 92207), (6122, 57345), (4939, 56147)]</td>\n",
       "    </tr>\n",
       "    <tr>\n",
       "      <th>9</th>\n",
       "      <td>9</td>\n",
       "      <td>[(3750, 178783), (648, 157291), (900, 70680), (7328, 46477), (6122, 43411)]</td>\n",
       "    </tr>\n",
       "    <tr>\n",
       "      <th>10</th>\n",
       "      <td>10</td>\n",
       "      <td>[(3750, 180259), (648, 114512), (900, 75185), (3370, 67780), (2465, 45163)]</td>\n",
       "    </tr>\n",
       "    <tr>\n",
       "      <th>11</th>\n",
       "      <td>11</td>\n",
       "      <td>[(3750, 83834), (648, 67353), (900, 37240), (4939, 18591), (6122, 18438)]</td>\n",
       "    </tr>\n",
       "    <tr>\n",
       "      <th>12</th>\n",
       "      <td>12</td>\n",
       "      <td>[(3750, 87412), (4464, 51426), (3370, 45815), (648, 37041), (2465, 36610)]</td>\n",
       "    </tr>\n",
       "    <tr>\n",
       "      <th>13</th>\n",
       "      <td>13</td>\n",
       "      <td>[(3750, 33796), (648, 26867), (900, 11263), (4939, 9651), (669, 8925)]</td>\n",
       "    </tr>\n",
       "  </tbody>\n",
       "</table>\n",
       "</div>"
      ],
      "text/plain": [
       "    label  \\\n",
       "0       0   \n",
       "1       1   \n",
       "2       2   \n",
       "3       3   \n",
       "4       4   \n",
       "5       5   \n",
       "6       6   \n",
       "7       7   \n",
       "8       8   \n",
       "9       9   \n",
       "10     10   \n",
       "11     11   \n",
       "12     12   \n",
       "13     13   \n",
       "\n",
       "                                                                          top5_word  \n",
       "0   [(3750, 1267331), (648, 967653), (900, 577742), (3370, 503768), (4464, 307431)]  \n",
       "1   [(3750, 1200686), (648, 714152), (3370, 626708), (900, 542884), (4464, 445525)]  \n",
       "2   [(3750, 1458331), (648, 974639), (900, 618294), (7399, 351894), (6122, 343850)]  \n",
       "3    [(3750, 774668), (648, 494477), (900, 298663), (6122, 187933), (4939, 173606)]  \n",
       "4     [(3750, 360839), (648, 231863), (900, 190842), (4411, 120442), (7399, 86190)]  \n",
       "5    [(3750, 715740), (648, 329051), (900, 305241), (6122, 159125), (5598, 136713)]  \n",
       "6    [(3750, 469540), (648, 345372), (900, 222488), (6248, 193757), (2555, 175234)]  \n",
       "7    [(3750, 428638), (648, 262220), (900, 184131), (3370, 159156), (5296, 132136)]  \n",
       "8       [(3750, 242367), (648, 202399), (900, 92207), (6122, 57345), (4939, 56147)]  \n",
       "9       [(3750, 178783), (648, 157291), (900, 70680), (7328, 46477), (6122, 43411)]  \n",
       "10      [(3750, 180259), (648, 114512), (900, 75185), (3370, 67780), (2465, 45163)]  \n",
       "11        [(3750, 83834), (648, 67353), (900, 37240), (4939, 18591), (6122, 18438)]  \n",
       "12       [(3750, 87412), (4464, 51426), (3370, 45815), (648, 37041), (2465, 36610)]  \n",
       "13           [(3750, 33796), (648, 26867), (900, 11263), (4939, 9651), (669, 8925)]  "
      ]
     },
     "metadata": {},
     "execution_count": 81
    }
   ],
   "metadata": {}
  },
  {
   "cell_type": "code",
   "execution_count": null,
   "source": [],
   "outputs": [],
   "metadata": {}
  }
 ],
 "metadata": {
  "orig_nbformat": 4,
  "language_info": {
   "name": "python",
   "version": "3.7.10",
   "mimetype": "text/x-python",
   "codemirror_mode": {
    "name": "ipython",
    "version": 3
   },
   "pygments_lexer": "ipython3",
   "nbconvert_exporter": "python",
   "file_extension": ".py"
  },
  "kernelspec": {
   "name": "python3",
   "display_name": "Python 3.7.10 64-bit ('pytorch': conda)"
  },
  "interpreter": {
   "hash": "0b44c525ca95e5dbf893da2282eb3ec3f420cb9fa59d94f9af90ca833dc1a37c"
  }
 },
 "nbformat": 4,
 "nbformat_minor": 2
}